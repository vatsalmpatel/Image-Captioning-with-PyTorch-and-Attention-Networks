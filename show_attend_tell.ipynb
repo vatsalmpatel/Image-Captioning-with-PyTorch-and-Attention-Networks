{
  "nbformat": 4,
  "nbformat_minor": 0,
  "metadata": {
    "colab": {
      "provenance": [],
      "collapsed_sections": [],
      "authorship_tag": "ABX9TyMAJtgWP3rPzecv11oBbip7"
    },
    "kernelspec": {
      "name": "python3",
      "display_name": "Python 3"
    },
    "language_info": {
      "name": "python"
    },
    "accelerator": "GPU",
    "gpuClass": "standard"
  },
  "cells": [
    {
      "cell_type": "markdown",
      "source": [
        "## Downloading dataset and predefined train, test and validation splits"
      ],
      "metadata": {
        "id": "Z-yqluKhfVRP"
      }
    },
    {
      "cell_type": "code",
      "source": [
        "! pip install -q kaggle\n",
        "from google.colab import files\n",
        "files.upload()\n",
        "! mkdir ~/.kaggle\n",
        "! cp kaggle.json ~/.kaggle/\n",
        "! chmod 600 ~/.kaggle/kaggle.json\n",
        "! kaggle datasets list"
      ],
      "metadata": {
        "id": "2OELG5SPdLMC"
      },
      "execution_count": null,
      "outputs": []
    },
    {
      "cell_type": "code",
      "source": [
        "!kaggle datasets download -d adityajn105/flickr8k"
      ],
      "metadata": {
        "colab": {
          "base_uri": "https://localhost:8080/"
        },
        "id": "qvui9MW7esFD",
        "outputId": "2b559b3e-111d-4291-b4bd-7a06c09240f7"
      },
      "execution_count": null,
      "outputs": [
        {
          "output_type": "stream",
          "name": "stdout",
          "text": [
            "Downloading flickr8k.zip to /content\n",
            "100% 1.04G/1.04G [00:48<00:00, 25.1MB/s]\n",
            "100% 1.04G/1.04G [00:48<00:00, 23.1MB/s]\n"
          ]
        }
      ]
    },
    {
      "cell_type": "code",
      "source": [
        "!wget http://cs.stanford.edu/people/karpathy/deepimagesent/caption_datasets.zip"
      ],
      "metadata": {
        "id": "GyuHjbB9ewE0"
      },
      "execution_count": null,
      "outputs": []
    },
    {
      "cell_type": "code",
      "source": [
        "!unzip ./caption_datasets.zip"
      ],
      "metadata": {
        "id": "H9h6hgAoe_u0"
      },
      "execution_count": null,
      "outputs": []
    },
    {
      "cell_type": "code",
      "source": [
        "!unzip flickr8k.zip"
      ],
      "metadata": {
        "id": "gW3ve4NbfFXq"
      },
      "execution_count": null,
      "outputs": []
    },
    {
      "cell_type": "markdown",
      "source": [
        "## Helper Functions"
      ],
      "metadata": {
        "id": "OJo4YBcVf8Br"
      }
    },
    {
      "cell_type": "code",
      "source": [
        "import os\n",
        "import numpy as np\n",
        "import h5py\n",
        "import json\n",
        "import torch\n",
        "from imageio import imread\n",
        "from skimage.transform import resize\n",
        "from tqdm import tqdm\n",
        "from collections import Counter\n",
        "from random import seed, choice, sample"
      ],
      "metadata": {
        "id": "FcLhUZVFfNcy"
      },
      "execution_count": 17,
      "outputs": []
    },
    {
      "cell_type": "code",
      "source": [
        "def create_input_files(dataset, karpathy_json_path, image_folder, captions_per_image, min_word_freq, output_folder,max_len=100):\n",
        "  assert dataset in {'coco', 'flickr8k', 'flickr30k'}\n",
        "\n",
        "  with open(karpathy_json_path, 'r') as j:\n",
        "      data = json.load(j)\n",
        "  \n",
        "  train_image_paths = []\n",
        "  train_image_captions = []\n",
        "  val_image_paths = []\n",
        "  val_image_captions = []\n",
        "  test_image_paths = []\n",
        "  test_image_captions = []\n",
        "  word_freq = Counter()\n",
        "\n",
        "  for img in data['images']:\n",
        "    captions = []\n",
        "    for c in img['sentences']:\n",
        "        word_freq.update(c['tokens'])\n",
        "        if len(c['tokens']) <= max_len:\n",
        "            captions.append(c['tokens'])\n",
        "\n",
        "    if len(captions) == 0:\n",
        "        continue\n",
        "    \n",
        "    path = os.path.join(image_folder, img['filepath'], img['filename']) if dataset == 'coco' else os.path.join(\n",
        "            image_folder, img['filename'])\n",
        "\n",
        "    if img['split'] in {'train', 'restval'}:\n",
        "        train_image_paths.append(path)\n",
        "        train_image_captions.append(captions)\n",
        "    elif img['split'] in {'val'}:\n",
        "        val_image_paths.append(path)\n",
        "        val_image_captions.append(captions)\n",
        "    elif img['split'] in {'test'}:\n",
        "        test_image_paths.append(path)\n",
        "        test_image_captions.append(captions)\n",
        "\n",
        "  assert len(train_image_paths) == len(train_image_captions)\n",
        "  assert len(val_image_paths) == len(val_image_captions)\n",
        "  assert len(test_image_paths) == len(test_image_captions)\n",
        "\n",
        "  words = [w for w in word_freq.keys() if word_freq[w] > min_word_freq]\n",
        "  word_map = {k: v + 1 for v, k in enumerate(words)}\n",
        "  word_map['<unk>'] = len(word_map) + 1\n",
        "  word_map['<start>'] = len(word_map) + 1\n",
        "  word_map['<end>'] = len(word_map) + 1\n",
        "  word_map['<pad>'] = 0\n",
        "  \n",
        "  base_filename = dataset + '_' + str(captions_per_image) + '_cap_per_img_' + str(min_word_freq) + '_min_word_freq'\n",
        "\n",
        "  with open(os.path.join(output_folder, 'WORDMAP_' + base_filename + '.json'), 'w') as j:\n",
        "      json.dump(word_map, j)\n",
        "\n",
        "  seed(123)\n",
        "  for impaths, imcaps, split in [(train_image_paths, train_image_captions, 'TRAIN'),\n",
        "                                  (val_image_paths, val_image_captions, 'VAL'),\n",
        "                                  (test_image_paths, test_image_captions, 'TEST')]:\n",
        "\n",
        "      with h5py.File(os.path.join(output_folder, split + '_IMAGES_' + base_filename + '.hdf5'), 'a') as h:\n",
        "          \n",
        "          h.attrs['captions_per_image'] = captions_per_image\n",
        "\n",
        "          \n",
        "          images = h.create_dataset('images', (len(impaths), 3, 256, 256), dtype='uint8')\n",
        "\n",
        "          print(\"\\nReading %s images and captions, storing to file...\\n\" % split)\n",
        "\n",
        "          enc_captions = []\n",
        "          caplens = []\n",
        "\n",
        "          for i, path in enumerate(tqdm(impaths)):\n",
        "\n",
        "              \n",
        "              if len(imcaps[i]) < captions_per_image:\n",
        "                  captions = imcaps[i] + [choice(imcaps[i]) for _ in range(captions_per_image - len(imcaps[i]))]\n",
        "              else:\n",
        "                  captions = sample(imcaps[i], k=captions_per_image)\n",
        "\n",
        "              \n",
        "              assert len(captions) == captions_per_image\n",
        "\n",
        "              \n",
        "              img = imread(impaths[i])\n",
        "              if len(img.shape) == 2:\n",
        "                  img = img[:, :, np.newaxis]\n",
        "                  img = np.concatenate([img, img, img], axis=2)\n",
        "              img = resize(img, (256, 256))\n",
        "              img = img.transpose(2, 0, 1)\n",
        "              assert img.shape == (3, 256, 256)\n",
        "              assert np.max(img) <= 255\n",
        "\n",
        "              \n",
        "              images[i] = img\n",
        "\n",
        "              for j, c in enumerate(captions):\n",
        "                  \n",
        "                  enc_c = [word_map['<start>']] + [word_map.get(word, word_map['<unk>']) for word in c] + [\n",
        "                      word_map['<end>']] + [word_map['<pad>']] * (max_len - len(c))\n",
        "\n",
        "                  \n",
        "                  c_len = len(c) + 2\n",
        "\n",
        "                  enc_captions.append(enc_c)\n",
        "                  caplens.append(c_len)\n",
        "\n",
        "          assert images.shape[0] * captions_per_image == len(enc_captions) == len(caplens)\n",
        "\n",
        "          with open(os.path.join(output_folder, split + '_CAPTIONS_' + base_filename + '.json'), 'w') as j:\n",
        "              json.dump(enc_captions, j)\n",
        "\n",
        "          with open(os.path.join(output_folder, split + '_CAPLENS_' + base_filename + '.json'), 'w') as j:\n",
        "              json.dump(caplens, j)"
      ],
      "metadata": {
        "id": "54Ng6eMbf_a5"
      },
      "execution_count": 18,
      "outputs": []
    },
    {
      "cell_type": "code",
      "source": [
        "def init_embedding(embeddings):\n",
        "    bias = np.sqrt(3.0 / embeddings.size(1))\n",
        "    torch.nn.init.uniform_(embeddings, -bias, bias)"
      ],
      "metadata": {
        "id": "bWswhJDeiZMJ"
      },
      "execution_count": 19,
      "outputs": []
    },
    {
      "cell_type": "code",
      "source": [
        "def load_embeddings(emb_file, word_map):\n",
        "    with open(emb_file, 'r') as f:\n",
        "        emb_dim = len(f.readline().split(' ')) - 1\n",
        "\n",
        "    vocab = set(word_map.keys())\n",
        "    embeddings = torch.FloatTensor(len(vocab), emb_dim)\n",
        "    init_embedding(embeddings)\n",
        "    print(\"\\nLoading embeddings...\")\n",
        "    for line in open(emb_file, 'r'):\n",
        "        line = line.split(' ')\n",
        "\n",
        "        emb_word = line[0]\n",
        "        embedding = list(map(lambda t: float(t), filter(lambda n: n and not n.isspace(), line[1:])))\n",
        "        if emb_word not in vocab:\n",
        "            continue\n",
        "\n",
        "        embeddings[word_map[emb_word]] = torch.FloatTensor(embedding)\n",
        "\n",
        "    return embeddings, emb_dim"
      ],
      "metadata": {
        "id": "03cQtrMCjB_r"
      },
      "execution_count": 20,
      "outputs": []
    },
    {
      "cell_type": "code",
      "source": [
        "def clip_gradient(optimizer, grad_clip):\n",
        "    for group in optimizer.param_groups:\n",
        "        for param in group['params']:\n",
        "            if param.grad is not None:\n",
        "                param.grad.data.clamp_(-grad_clip, grad_clip)"
      ],
      "metadata": {
        "id": "l5meY0JVjJJq"
      },
      "execution_count": 21,
      "outputs": []
    },
    {
      "cell_type": "code",
      "source": [
        "def save_checkpoint(data_name, epoch, epochs_since_improvement, encoder, decoder, encoder_optimizer, decoder_optimizer,\n",
        "                    bleu4, is_best):\n",
        "    state = {'epoch': epoch,\n",
        "             'epochs_since_improvement': epochs_since_improvement,\n",
        "             'bleu-4': bleu4,\n",
        "             'encoder': encoder,\n",
        "             'decoder': decoder,\n",
        "             'encoder_optimizer': encoder_optimizer,\n",
        "             'decoder_optimizer': decoder_optimizer}\n",
        "    filename = 'checkpoint_' + data_name + '.pth.tar'\n",
        "    torch.save(state, filename)\n",
        "    if is_best:\n",
        "        torch.save(state, 'BEST_' + filename)"
      ],
      "metadata": {
        "id": "K9wAiUGGjLxW"
      },
      "execution_count": 22,
      "outputs": []
    },
    {
      "cell_type": "code",
      "source": [
        "class AverageMeter(object):\n",
        "    def __init__(self):\n",
        "        self.reset()\n",
        "\n",
        "    def reset(self):\n",
        "        self.val = 0\n",
        "        self.avg = 0\n",
        "        self.sum = 0\n",
        "        self.count = 0\n",
        "\n",
        "    def update(self, val, n=1):\n",
        "        self.val = val\n",
        "        self.sum += val * n\n",
        "        self.count += n\n",
        "        self.avg = self.sum / self.count"
      ],
      "metadata": {
        "id": "TyZ9Yys3jQIz"
      },
      "execution_count": 23,
      "outputs": []
    },
    {
      "cell_type": "code",
      "source": [
        "def adjust_learning_rate(optimizer, shrink_factor):\n",
        "    print(\"\\nDECAYING learning rate.\")\n",
        "    for param_group in optimizer.param_groups:\n",
        "        param_group['lr'] = param_group['lr'] * shrink_factor\n",
        "    print(\"The new learning rate is %f\\n\" % (optimizer.param_groups[0]['lr'],))"
      ],
      "metadata": {
        "id": "PeJWgTArjZe3"
      },
      "execution_count": 24,
      "outputs": []
    },
    {
      "cell_type": "code",
      "source": [
        "def accuracy(scores, targets, k):\n",
        "    batch_size = targets.size(0)\n",
        "    _, ind = scores.topk(k, 1, True, True)\n",
        "    correct = ind.eq(targets.view(-1, 1).expand_as(ind))\n",
        "    correct_total = correct.view(-1).float().sum()\n",
        "    return correct_total.item() * (100.0 / batch_size)"
      ],
      "metadata": {
        "id": "fAjAYWKAjckm"
      },
      "execution_count": 25,
      "outputs": []
    },
    {
      "cell_type": "markdown",
      "source": [
        "## Creating input files"
      ],
      "metadata": {
        "id": "jQkjjXpdjzIe"
      }
    },
    {
      "cell_type": "code",
      "source": [
        "create_input_files(\n",
        "    dataset = 'flickr8k',\n",
        "    karpathy_json_path = './dataset_flickr8k.json',\n",
        "    image_folder = './Images/',\n",
        "    captions_per_image = 5,\n",
        "    min_word_freq = 5,\n",
        "    output_folder = './Images/',\n",
        "    max_len = 50\n",
        ")"
      ],
      "metadata": {
        "colab": {
          "base_uri": "https://localhost:8080/"
        },
        "id": "Swj6xfGWjfZP",
        "outputId": "1b85a5e4-d781-4e6e-8c54-7a5ed1237080"
      },
      "execution_count": 26,
      "outputs": [
        {
          "output_type": "stream",
          "name": "stdout",
          "text": [
            "\n",
            "Reading TRAIN images and captions, storing to file...\n",
            "\n"
          ]
        },
        {
          "output_type": "stream",
          "name": "stderr",
          "text": [
            "100%|██████████| 6000/6000 [02:59<00:00, 33.36it/s]\n"
          ]
        },
        {
          "output_type": "stream",
          "name": "stdout",
          "text": [
            "\n",
            "Reading VAL images and captions, storing to file...\n",
            "\n"
          ]
        },
        {
          "output_type": "stream",
          "name": "stderr",
          "text": [
            "100%|██████████| 1000/1000 [00:28<00:00, 35.05it/s]\n"
          ]
        },
        {
          "output_type": "stream",
          "name": "stdout",
          "text": [
            "\n",
            "Reading TEST images and captions, storing to file...\n",
            "\n"
          ]
        },
        {
          "output_type": "stream",
          "name": "stderr",
          "text": [
            "100%|██████████| 1000/1000 [00:33<00:00, 30.25it/s]\n"
          ]
        }
      ]
    },
    {
      "cell_type": "markdown",
      "source": [
        "## Creating Dataset for PyTorch using the Dataset class in PyTorch so that the dataset can be used for training, eval and testing"
      ],
      "metadata": {
        "id": "7D3Zo2w6k-2n"
      }
    },
    {
      "cell_type": "code",
      "source": [
        "import torch\n",
        "from torch.utils.data import Dataset\n",
        "import h5py\n",
        "import json\n",
        "import os"
      ],
      "metadata": {
        "id": "Fo8gw4-Pkd0x"
      },
      "execution_count": 27,
      "outputs": []
    },
    {
      "cell_type": "code",
      "source": [
        "class CaptionDataset(Dataset):\n",
        "  def __init__(self,data_folder,data_name,split,transform = None):\n",
        "    self.split = split\n",
        "    assert self.split in {\"TRAIN\",\"VAL\",\"TEST\"}\n",
        "\n",
        "    self.h = h5py.File(os.path.join(data_folder, self.split + '_IMAGES_' + data_name + '.hdf5'), 'r')\n",
        "    self.imgs = self.h['images']\n",
        "    self.cpi = self.h.attrs['captions_per_image']\n",
        "    with open(os.path.join(data_folder, self.split + '_CAPTIONS_' + data_name + '.json'), 'r') as j:\n",
        "        self.captions = json.load(j)\n",
        "    with open(os.path.join(data_folder, self.split + '_CAPLENS_' + data_name + '.json'), 'r') as j:\n",
        "        self.caplens = json.load(j)\n",
        "    self.transform = transform\n",
        "\n",
        "    self.dataset_size = len(self.captions)\n",
        "  \n",
        "  def __getitem__(self, i):\n",
        "    img = torch.FloatTensor(self.imgs[i // self.cpi] / 255.)\n",
        "    if self.transform is not None:\n",
        "        img = self.transform(img)\n",
        "\n",
        "    caption = torch.LongTensor(self.captions[i])\n",
        "\n",
        "    caplen = torch.LongTensor([self.caplens[i]])\n",
        "\n",
        "    if self.split is 'TRAIN':\n",
        "        return img, caption, caplen\n",
        "    else:\n",
        "        all_captions = torch.LongTensor(\n",
        "            self.captions[((i // self.cpi) * self.cpi):(((i // self.cpi) * self.cpi) + self.cpi)])\n",
        "        return img, caption, caplen, all_captions\n",
        "\n",
        "  def __len__(self):\n",
        "      return self.dataset_size"
      ],
      "metadata": {
        "id": "rxUlntXTlaEF"
      },
      "execution_count": 29,
      "outputs": []
    },
    {
      "cell_type": "markdown",
      "source": [
        "## Creating the Encoder and Decoder Architecture for model training"
      ],
      "metadata": {
        "id": "_8m1z9cymMhQ"
      }
    },
    {
      "cell_type": "code",
      "source": [
        "import torch\n",
        "from torch import nn\n",
        "import torchvision"
      ],
      "metadata": {
        "id": "qbNGH2TGmDcX"
      },
      "execution_count": 30,
      "outputs": []
    },
    {
      "cell_type": "code",
      "source": [
        "device = torch.device(\n",
        "    \"cuda\" if torch.cuda.is_available()\n",
        "    else \"cpu\"\n",
        ")"
      ],
      "metadata": {
        "id": "SopgByWnmU2_"
      },
      "execution_count": 31,
      "outputs": []
    },
    {
      "cell_type": "code",
      "source": [
        "device"
      ],
      "metadata": {
        "colab": {
          "base_uri": "https://localhost:8080/"
        },
        "id": "Fv0Lh4jSmd1B",
        "outputId": "b41b23e5-a34a-413d-cacf-781526816667"
      },
      "execution_count": 32,
      "outputs": [
        {
          "output_type": "execute_result",
          "data": {
            "text/plain": [
              "device(type='cuda')"
            ]
          },
          "metadata": {},
          "execution_count": 32
        }
      ]
    },
    {
      "cell_type": "code",
      "source": [
        "class Encoder(nn.Module):\n",
        "  def __init__(self,encoded_image_size = 14):\n",
        "    super(Encoder,self).__init__()\n",
        "    self.enc_image_size = encoded_image_size\n",
        "    resnet = torchvision.models.resnet101(pretrained = True)\n",
        "    modules = list(resnet.children())[:-2]\n",
        "    self.resnet = nn.Sequential(*modules)\n",
        "    self.addaptive_pool = nn.AdaptiveAvgPool2d((encoded_image_size,encoded_image_size))\n",
        "    self.fine_tune()\n",
        "  \n",
        "  def forward(self,images):\n",
        "    out = self.resnet(images)\n",
        "    out = self.addaptive_pool(out)\n",
        "    out = out.permute(0,2,3,1)\n",
        "    return out\n",
        "  \n",
        "  def fine_tune(self,fine_tune = True):\n",
        "    for p in self.resnet.parameters():\n",
        "      p.requires_grad = False\n",
        "    for c in list(self.resnet.children())[5:]:\n",
        "      for p in c.parameters():\n",
        "        p.required_grad = fine_tune"
      ],
      "metadata": {
        "id": "UX3-V6ejmfBG"
      },
      "execution_count": 33,
      "outputs": []
    },
    {
      "cell_type": "code",
      "source": [
        "class Attention(nn.Module):\n",
        "  def __init__(self,encoder_dim,decoder_dim,attention_dim):\n",
        "    super(Attention,self).__init__()\n",
        "    self.encoder_att = nn.Linear(encoder_dim,attention_dim)\n",
        "    self.decoder_att = nn.Lienar(decoder_dim,attention_dim)\n",
        "    self.full_att = nn.Linear(attention_dim,1)\n",
        "    self.relu = nn.ReLU()\n",
        "    self.softmax = nn.Softmax(dim = 1)\n",
        "  \n",
        "  def forward(self,encoder_out,decoder_hidden):\n",
        "    att1 = self.encoder_att(encoder_out)\n",
        "    att2 = self.decoder_att(decoder_hidden)\n",
        "    att = self.full_att(self.relu(att1 + att2.unsqueeze(1))).squeeze(2)\n",
        "    alpha = self.softmax(att)\n",
        "    attention_weighted_encoding = (encoder_out * alpha.unsqueeze(2)).sum(dim = 1)\n",
        "    return attention_weighted_encoding, alpha"
      ],
      "metadata": {
        "id": "W_bXem6Imkn_"
      },
      "execution_count": 36,
      "outputs": []
    },
    {
      "cell_type": "code",
      "source": [
        "class DecoderWithAttention(nn.Module):\n",
        "\n",
        "    def __init__(self, attention_dim, embed_dim, decoder_dim, vocab_size, encoder_dim=2048, dropout=0.5):\n",
        "        super(DecoderWithAttention, self).__init__()\n",
        "\n",
        "        self.encoder_dim = encoder_dim\n",
        "        self.attention_dim = attention_dim\n",
        "        self.embed_dim = embed_dim\n",
        "        self.decoder_dim = decoder_dim\n",
        "        self.vocab_size = vocab_size\n",
        "        self.dropout = dropout\n",
        "\n",
        "        self.attention = Attention(encoder_dim, decoder_dim, attention_dim)\n",
        "\n",
        "        self.embedding = nn.Embedding(vocab_size, embed_dim)\n",
        "        self.dropout = nn.Dropout(p=self.dropout)\n",
        "        self.decode_step = nn.LSTMCell(embed_dim + encoder_dim, decoder_dim, bias=True)\n",
        "        self.init_h = nn.Linear(encoder_dim, decoder_dim)\n",
        "        self.init_c = nn.Linear(encoder_dim, decoder_dim)\n",
        "        self.f_beta = nn.Linear(decoder_dim, encoder_dim)\n",
        "        self.sigmoid = nn.Sigmoid()\n",
        "        self.fc = nn.Linear(decoder_dim, vocab_size)\n",
        "        self.init_weights()\n",
        "\n",
        "    def init_weights(self):\n",
        "        self.embedding.weight.data.uniform_(-0.1, 0.1)\n",
        "        self.fc.bias.data.fill_(0)\n",
        "        self.fc.weight.data.uniform_(-0.1, 0.1)\n",
        "\n",
        "    def load_pretrained_embeddings(self, embeddings):\n",
        "        self.embedding.weight = nn.Parameter(embeddings)\n",
        "\n",
        "    def fine_tune_embeddings(self, fine_tune=True):\n",
        "        for p in self.embedding.parameters():\n",
        "            p.requires_grad = fine_tune\n",
        "\n",
        "    def init_hidden_state(self, encoder_out):\n",
        "        mean_encoder_out = encoder_out.mean(dim=1)\n",
        "        h = self.init_h(mean_encoder_out)\n",
        "        c = self.init_c(mean_encoder_out)\n",
        "        return h, c\n",
        "\n",
        "    def forward(self, encoder_out, encoded_captions, caption_lengths):\n",
        "        batch_size = encoder_out.size(0)\n",
        "        encoder_dim = encoder_out.size(-1)\n",
        "        vocab_size = self.vocab_size\n",
        "\n",
        "        encoder_out = encoder_out.view(batch_size, -1, encoder_dim)\n",
        "        num_pixels = encoder_out.size(1)\n",
        "\n",
        "        caption_lengths, sort_ind = caption_lengths.squeeze(1).sort(dim=0, descending=True)\n",
        "        encoder_out = encoder_out[sort_ind]\n",
        "        encoded_captions = encoded_captions[sort_ind]\n",
        "\n",
        "        embeddings = self.embedding(encoded_captions) \n",
        "        h, c = self.init_hidden_state(encoder_out)\n",
        "        decode_lengths = (caption_lengths - 1).tolist()\n",
        "\n",
        "        predictions = torch.zeros(batch_size, max(decode_lengths), vocab_size).to(device)\n",
        "        alphas = torch.zeros(batch_size, max(decode_lengths), num_pixels).to(device)\n",
        "        for t in range(max(decode_lengths)):\n",
        "            batch_size_t = sum([l > t for l in decode_lengths])\n",
        "            attention_weighted_encoding, alpha = self.attention(encoder_out[:batch_size_t],\n",
        "                                                                h[:batch_size_t])\n",
        "            gate = self.sigmoid(self.f_beta(h[:batch_size_t]))  \n",
        "            attention_weighted_encoding = gate * attention_weighted_encoding\n",
        "            h, c = self.decode_step(\n",
        "                torch.cat([embeddings[:batch_size_t, t, :], attention_weighted_encoding], dim=1),\n",
        "                (h[:batch_size_t], c[:batch_size_t]))\n",
        "            preds = self.fc(self.dropout(h))\n",
        "            predictions[:batch_size_t, t, :] = preds\n",
        "            alphas[:batch_size_t, t, :] = alpha\n",
        "\n",
        "        return predictions, encoded_captions, decode_lengths, alphas, sort_ind"
      ],
      "metadata": {
        "id": "yLiTPLtSmnaM"
      },
      "execution_count": 37,
      "outputs": []
    },
    {
      "cell_type": "code",
      "source": [],
      "metadata": {
        "id": "kecTDPDTmq3c"
      },
      "execution_count": null,
      "outputs": []
    }
  ]
}