{
  "nbformat": 4,
  "nbformat_minor": 0,
  "metadata": {
    "colab": {
      "provenance": [],
      "collapsed_sections": [],
      "authorship_tag": "ABX9TyMyLLZ3ZUYLfczMOxQa72Wm"
    },
    "kernelspec": {
      "name": "python3",
      "display_name": "Python 3"
    },
    "language_info": {
      "name": "python"
    },
    "accelerator": "GPU",
    "gpuClass": "standard"
  },
  "cells": [
    {
      "cell_type": "markdown",
      "source": [
        "## Downloading dataset and predefined train, test and validation splits"
      ],
      "metadata": {
        "id": "Z-yqluKhfVRP"
      }
    },
    {
      "cell_type": "code",
      "source": [
        "! pip install -q kaggle\n",
        "from google.colab import files\n",
        "files.upload()\n",
        "! mkdir ~/.kaggle\n",
        "! cp kaggle.json ~/.kaggle/\n",
        "! chmod 600 ~/.kaggle/kaggle.json\n",
        "! kaggle datasets list"
      ],
      "metadata": {
        "id": "2OELG5SPdLMC"
      },
      "execution_count": null,
      "outputs": []
    },
    {
      "cell_type": "code",
      "source": [
        "!kaggle datasets download -d adityajn105/flickr8k"
      ],
      "metadata": {
        "colab": {
          "base_uri": "https://localhost:8080/"
        },
        "id": "qvui9MW7esFD",
        "outputId": "2b559b3e-111d-4291-b4bd-7a06c09240f7"
      },
      "execution_count": null,
      "outputs": [
        {
          "output_type": "stream",
          "name": "stdout",
          "text": [
            "Downloading flickr8k.zip to /content\n",
            "100% 1.04G/1.04G [00:48<00:00, 25.1MB/s]\n",
            "100% 1.04G/1.04G [00:48<00:00, 23.1MB/s]\n"
          ]
        }
      ]
    },
    {
      "cell_type": "code",
      "source": [
        "!wget http://cs.stanford.edu/people/karpathy/deepimagesent/caption_datasets.zip"
      ],
      "metadata": {
        "id": "GyuHjbB9ewE0"
      },
      "execution_count": null,
      "outputs": []
    },
    {
      "cell_type": "code",
      "source": [
        "!unzip ./caption_datasets.zip"
      ],
      "metadata": {
        "id": "H9h6hgAoe_u0"
      },
      "execution_count": null,
      "outputs": []
    },
    {
      "cell_type": "code",
      "source": [
        "!unzip flickr8k.zip"
      ],
      "metadata": {
        "id": "gW3ve4NbfFXq"
      },
      "execution_count": null,
      "outputs": []
    },
    {
      "cell_type": "markdown",
      "source": [
        "## Helper Functions"
      ],
      "metadata": {
        "id": "OJo4YBcVf8Br"
      }
    },
    {
      "cell_type": "code",
      "source": [
        "import os\n",
        "import numpy as np\n",
        "import h5py\n",
        "import json\n",
        "import torch\n",
        "from imageio import imread\n",
        "from skimage.transform import resize\n",
        "from tqdm import tqdm\n",
        "from collections import Counter\n",
        "from random import seed, choice, sample"
      ],
      "metadata": {
        "id": "FcLhUZVFfNcy"
      },
      "execution_count": 17,
      "outputs": []
    },
    {
      "cell_type": "code",
      "source": [
        "def create_input_files(dataset, karpathy_json_path, image_folder, captions_per_image, min_word_freq, output_folder,max_len=100):\n",
        "  assert dataset in {'coco', 'flickr8k', 'flickr30k'}\n",
        "\n",
        "  with open(karpathy_json_path, 'r') as j:\n",
        "      data = json.load(j)\n",
        "  \n",
        "  train_image_paths = []\n",
        "  train_image_captions = []\n",
        "  val_image_paths = []\n",
        "  val_image_captions = []\n",
        "  test_image_paths = []\n",
        "  test_image_captions = []\n",
        "  word_freq = Counter()\n",
        "\n",
        "  for img in data['images']:\n",
        "    captions = []\n",
        "    for c in img['sentences']:\n",
        "        word_freq.update(c['tokens'])\n",
        "        if len(c['tokens']) <= max_len:\n",
        "            captions.append(c['tokens'])\n",
        "\n",
        "    if len(captions) == 0:\n",
        "        continue\n",
        "    \n",
        "    path = os.path.join(image_folder, img['filepath'], img['filename']) if dataset == 'coco' else os.path.join(\n",
        "            image_folder, img['filename'])\n",
        "\n",
        "    if img['split'] in {'train', 'restval'}:\n",
        "        train_image_paths.append(path)\n",
        "        train_image_captions.append(captions)\n",
        "    elif img['split'] in {'val'}:\n",
        "        val_image_paths.append(path)\n",
        "        val_image_captions.append(captions)\n",
        "    elif img['split'] in {'test'}:\n",
        "        test_image_paths.append(path)\n",
        "        test_image_captions.append(captions)\n",
        "\n",
        "  assert len(train_image_paths) == len(train_image_captions)\n",
        "  assert len(val_image_paths) == len(val_image_captions)\n",
        "  assert len(test_image_paths) == len(test_image_captions)\n",
        "\n",
        "  words = [w for w in word_freq.keys() if word_freq[w] > min_word_freq]\n",
        "  word_map = {k: v + 1 for v, k in enumerate(words)}\n",
        "  word_map['<unk>'] = len(word_map) + 1\n",
        "  word_map['<start>'] = len(word_map) + 1\n",
        "  word_map['<end>'] = len(word_map) + 1\n",
        "  word_map['<pad>'] = 0\n",
        "  \n",
        "  base_filename = dataset + '_' + str(captions_per_image) + '_cap_per_img_' + str(min_word_freq) + '_min_word_freq'\n",
        "\n",
        "  with open(os.path.join(output_folder, 'WORDMAP_' + base_filename + '.json'), 'w') as j:\n",
        "      json.dump(word_map, j)\n",
        "\n",
        "  seed(123)\n",
        "  for impaths, imcaps, split in [(train_image_paths, train_image_captions, 'TRAIN'),\n",
        "                                  (val_image_paths, val_image_captions, 'VAL'),\n",
        "                                  (test_image_paths, test_image_captions, 'TEST')]:\n",
        "\n",
        "      with h5py.File(os.path.join(output_folder, split + '_IMAGES_' + base_filename + '.hdf5'), 'a') as h:\n",
        "          \n",
        "          h.attrs['captions_per_image'] = captions_per_image\n",
        "\n",
        "          \n",
        "          images = h.create_dataset('images', (len(impaths), 3, 256, 256), dtype='uint8')\n",
        "\n",
        "          print(\"\\nReading %s images and captions, storing to file...\\n\" % split)\n",
        "\n",
        "          enc_captions = []\n",
        "          caplens = []\n",
        "\n",
        "          for i, path in enumerate(tqdm(impaths)):\n",
        "\n",
        "              \n",
        "              if len(imcaps[i]) < captions_per_image:\n",
        "                  captions = imcaps[i] + [choice(imcaps[i]) for _ in range(captions_per_image - len(imcaps[i]))]\n",
        "              else:\n",
        "                  captions = sample(imcaps[i], k=captions_per_image)\n",
        "\n",
        "              \n",
        "              assert len(captions) == captions_per_image\n",
        "\n",
        "              \n",
        "              img = imread(impaths[i])\n",
        "              if len(img.shape) == 2:\n",
        "                  img = img[:, :, np.newaxis]\n",
        "                  img = np.concatenate([img, img, img], axis=2)\n",
        "              img = resize(img, (256, 256))\n",
        "              img = img.transpose(2, 0, 1)\n",
        "              assert img.shape == (3, 256, 256)\n",
        "              assert np.max(img) <= 255\n",
        "\n",
        "              \n",
        "              images[i] = img\n",
        "\n",
        "              for j, c in enumerate(captions):\n",
        "                  \n",
        "                  enc_c = [word_map['<start>']] + [word_map.get(word, word_map['<unk>']) for word in c] + [\n",
        "                      word_map['<end>']] + [word_map['<pad>']] * (max_len - len(c))\n",
        "\n",
        "                  \n",
        "                  c_len = len(c) + 2\n",
        "\n",
        "                  enc_captions.append(enc_c)\n",
        "                  caplens.append(c_len)\n",
        "\n",
        "          assert images.shape[0] * captions_per_image == len(enc_captions) == len(caplens)\n",
        "\n",
        "          with open(os.path.join(output_folder, split + '_CAPTIONS_' + base_filename + '.json'), 'w') as j:\n",
        "              json.dump(enc_captions, j)\n",
        "\n",
        "          with open(os.path.join(output_folder, split + '_CAPLENS_' + base_filename + '.json'), 'w') as j:\n",
        "              json.dump(caplens, j)"
      ],
      "metadata": {
        "id": "54Ng6eMbf_a5"
      },
      "execution_count": 18,
      "outputs": []
    },
    {
      "cell_type": "code",
      "source": [
        "def init_embedding(embeddings):\n",
        "    bias = np.sqrt(3.0 / embeddings.size(1))\n",
        "    torch.nn.init.uniform_(embeddings, -bias, bias)"
      ],
      "metadata": {
        "id": "bWswhJDeiZMJ"
      },
      "execution_count": 19,
      "outputs": []
    },
    {
      "cell_type": "code",
      "source": [
        "def load_embeddings(emb_file, word_map):\n",
        "    with open(emb_file, 'r') as f:\n",
        "        emb_dim = len(f.readline().split(' ')) - 1\n",
        "\n",
        "    vocab = set(word_map.keys())\n",
        "    embeddings = torch.FloatTensor(len(vocab), emb_dim)\n",
        "    init_embedding(embeddings)\n",
        "    print(\"\\nLoading embeddings...\")\n",
        "    for line in open(emb_file, 'r'):\n",
        "        line = line.split(' ')\n",
        "\n",
        "        emb_word = line[0]\n",
        "        embedding = list(map(lambda t: float(t), filter(lambda n: n and not n.isspace(), line[1:])))\n",
        "        if emb_word not in vocab:\n",
        "            continue\n",
        "\n",
        "        embeddings[word_map[emb_word]] = torch.FloatTensor(embedding)\n",
        "\n",
        "    return embeddings, emb_dim"
      ],
      "metadata": {
        "id": "03cQtrMCjB_r"
      },
      "execution_count": 20,
      "outputs": []
    },
    {
      "cell_type": "code",
      "source": [
        "def clip_gradient(optimizer, grad_clip):\n",
        "    for group in optimizer.param_groups:\n",
        "        for param in group['params']:\n",
        "            if param.grad is not None:\n",
        "                param.grad.data.clamp_(-grad_clip, grad_clip)"
      ],
      "metadata": {
        "id": "l5meY0JVjJJq"
      },
      "execution_count": 21,
      "outputs": []
    },
    {
      "cell_type": "code",
      "source": [
        "def save_checkpoint(data_name, epoch, epochs_since_improvement, encoder, decoder, encoder_optimizer, decoder_optimizer,\n",
        "                    bleu4, is_best):\n",
        "    state = {'epoch': epoch,\n",
        "             'epochs_since_improvement': epochs_since_improvement,\n",
        "             'bleu-4': bleu4,\n",
        "             'encoder': encoder,\n",
        "             'decoder': decoder,\n",
        "             'encoder_optimizer': encoder_optimizer,\n",
        "             'decoder_optimizer': decoder_optimizer}\n",
        "    filename = 'checkpoint_' + data_name + '.pth.tar'\n",
        "    torch.save(state, filename)\n",
        "    if is_best:\n",
        "        torch.save(state, 'BEST_' + filename)"
      ],
      "metadata": {
        "id": "K9wAiUGGjLxW"
      },
      "execution_count": 22,
      "outputs": []
    },
    {
      "cell_type": "code",
      "source": [
        "class AverageMeter(object):\n",
        "    def __init__(self):\n",
        "        self.reset()\n",
        "\n",
        "    def reset(self):\n",
        "        self.val = 0\n",
        "        self.avg = 0\n",
        "        self.sum = 0\n",
        "        self.count = 0\n",
        "\n",
        "    def update(self, val, n=1):\n",
        "        self.val = val\n",
        "        self.sum += val * n\n",
        "        self.count += n\n",
        "        self.avg = self.sum / self.count"
      ],
      "metadata": {
        "id": "TyZ9Yys3jQIz"
      },
      "execution_count": 23,
      "outputs": []
    },
    {
      "cell_type": "code",
      "source": [
        "def adjust_learning_rate(optimizer, shrink_factor):\n",
        "    print(\"\\nDECAYING learning rate.\")\n",
        "    for param_group in optimizer.param_groups:\n",
        "        param_group['lr'] = param_group['lr'] * shrink_factor\n",
        "    print(\"The new learning rate is %f\\n\" % (optimizer.param_groups[0]['lr'],))"
      ],
      "metadata": {
        "id": "PeJWgTArjZe3"
      },
      "execution_count": 24,
      "outputs": []
    },
    {
      "cell_type": "code",
      "source": [
        "def accuracy(scores, targets, k):\n",
        "    batch_size = targets.size(0)\n",
        "    _, ind = scores.topk(k, 1, True, True)\n",
        "    correct = ind.eq(targets.view(-1, 1).expand_as(ind))\n",
        "    correct_total = correct.view(-1).float().sum()\n",
        "    return correct_total.item() * (100.0 / batch_size)"
      ],
      "metadata": {
        "id": "fAjAYWKAjckm"
      },
      "execution_count": 25,
      "outputs": []
    },
    {
      "cell_type": "code",
      "source": [],
      "metadata": {
        "id": "Swj6xfGWjfZP"
      },
      "execution_count": null,
      "outputs": []
    }
  ]
}